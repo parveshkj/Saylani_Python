{
 "cells": [
  {
   "cell_type": "markdown",
   "metadata": {},
   "source": [
    "# Assignment 3\n",
    "### 1.calculator"
   ]
  },
  {
   "cell_type": "code",
   "execution_count": 1,
   "metadata": {},
   "outputs": [
    {
     "name": "stdout",
     "output_type": "stream",
     "text": [
      "Enter first num2\n",
      "Enter second num2\n",
      "Enter Operator2\n"
     ]
    }
   ],
   "source": [
    "x= float(input(\"Enter first num\"))\n",
    "y= float(input(\"Enter second num\"))\n",
    "operator = (input(\"Enter Operator\"))\n",
    "\n",
    "#def add(x,y):\n",
    "#    return x + y\n",
    "#def sub(x,y):\n",
    " #   return x - y\n",
    "#def mul(x,y):\n",
    " #   return x * y\n",
    "#def div(x,y):\n",
    " #   return x / y\n",
    "\n",
    "if operator == \"+\":\n",
    "    print (x+y)\n",
    "elif operator == \"-\":\n",
    "    print(x-y)\n",
    "elif operator == \"*\":\n",
    "    print(x*y)\n",
    "elif operator == \"/\":\n",
    "    print(x/y)\n",
    "elif operator == \"p\":\n",
    "    print(x**y)\n"
   ]
  },
  {
   "cell_type": "markdown",
   "metadata": {},
   "source": [
    "### 2.write a program to check if there is any numeric value in list using for loop"
   ]
  },
  {
   "cell_type": "code",
   "execution_count": 2,
   "metadata": {},
   "outputs": [
    {
     "name": "stdout",
     "output_type": "stream",
     "text": [
      "numeric value found : 3\n"
     ]
    }
   ],
   "source": [
    "a =[\"Parvesh\",3,\"5\",\"Jesswani\"]\n",
    "for i in a:\n",
    "    if type(i) == int or type(i) == float:\n",
    "        print (f\"numeric value found : {i}\" )\n",
    "        break"
   ]
  },
  {
   "cell_type": "markdown",
   "metadata": {},
   "source": [
    "### 3.write a python script to add a key to a dictionary"
   ]
  },
  {
   "cell_type": "code",
   "execution_count": 3,
   "metadata": {},
   "outputs": [],
   "source": [
    "b = {\"First name\" : \"Parvesh\",\"Last name\" : \"Jesswani\"}"
   ]
  },
  {
   "cell_type": "code",
   "execution_count": 4,
   "metadata": {},
   "outputs": [],
   "source": [
    "b.update({\"age\": \"20\"})"
   ]
  },
  {
   "cell_type": "code",
   "execution_count": 5,
   "metadata": {},
   "outputs": [
    {
     "data": {
      "text/plain": [
       "{'First name': 'Parvesh', 'Last name': 'Jesswani', 'age': '20'}"
      ]
     },
     "execution_count": 5,
     "metadata": {},
     "output_type": "execute_result"
    }
   ],
   "source": [
    "b"
   ]
  },
  {
   "cell_type": "markdown",
   "metadata": {},
   "source": [
    "### 4.write a program to sum all the numeric items in a dictionary"
   ]
  },
  {
   "cell_type": "code",
   "execution_count": 6,
   "metadata": {},
   "outputs": [],
   "source": [
    "c = {\"key1\":\"Parvesh\" , \"key2\":10, \"key3\":30}"
   ]
  },
  {
   "cell_type": "code",
   "execution_count": 15,
   "metadata": {},
   "outputs": [
    {
     "name": "stdout",
     "output_type": "stream",
     "text": [
      "40\n"
     ]
    }
   ],
   "source": [
    "sum = 0\n",
    "for j in c.values():\n",
    "    if type(j)==int or type(j)==float:\n",
    "        sum += j\n",
    "print(sum)"
   ]
  },
  {
   "cell_type": "markdown",
   "metadata": {},
   "source": [
    "### 5.Write a program to identify duplicate value from list"
   ]
  },
  {
   "cell_type": "code",
   "execution_count": 22,
   "metadata": {},
   "outputs": [
    {
     "name": "stdout",
     "output_type": "stream",
     "text": [
      "Duplicated: 20\n",
      "Duplicated: 40\n",
      "Duplicated: 20\n",
      "Duplicated: 40\n"
     ]
    }
   ],
   "source": [
    "items = [20,40,60,30,20,40]\n",
    "for i in items:\n",
    "    if items.count(i) > 1:\n",
    "        print(\"Duplicated:\",i)\n",
    "    else:\n",
    "        pass"
   ]
  },
  {
   "cell_type": "markdown",
   "metadata": {},
   "source": [
    "### 6.Write a python script to check if a given key is already exists in a dictionary"
   ]
  },
  {
   "cell_type": "code",
   "execution_count": 14,
   "metadata": {},
   "outputs": [
    {
     "name": "stdout",
     "output_type": "stream",
     "text": [
      "enter key: 3\n",
      "key is present\n"
     ]
    }
   ],
   "source": [
    "dic= {1: 30, 2: 40 ,3: 50, 4: 60, 5: 70 , 6: 80}\n",
    "a = int(input(\"enter key: \"))\n",
    "if a in dic:\n",
    "    print(\"key is exist\")\n",
    "else:\n",
    "    print (\"key not exist\")\n"
   ]
  }
 ],
 "metadata": {
  "kernelspec": {
   "display_name": "Python 3",
   "language": "python",
   "name": "python3"
  },
  "language_info": {
   "codemirror_mode": {
    "name": "ipython",
    "version": 3
   },
   "file_extension": ".py",
   "mimetype": "text/x-python",
   "name": "python",
   "nbconvert_exporter": "python",
   "pygments_lexer": "ipython3",
   "version": "3.7.1"
  }
 },
 "nbformat": 4,
 "nbformat_minor": 2
}
