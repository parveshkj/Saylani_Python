{
 "cells": [
  {
   "cell_type": "markdown",
   "metadata": {},
   "source": [
    "# Assignment # 4\n",
    "\n",
    "##### 1.Use a dictionary to store information about a person you know. Store their first name, last name, age, and the city in which they live. You should have keys such as first_name, last_name, age, and city. Print each piece of information stored in your dictionary. Add a new key value pair about qualification then update the qualification value to high academic level then delete it."
   ]
  },
  {
   "cell_type": "code",
   "execution_count": 6,
   "metadata": {},
   "outputs": [
    {
     "data": {
      "text/plain": [
       "{'First name': 'Parvesh',\n",
       " 'Last name': 'Jesswani',\n",
       " 'age': 20,\n",
       " 'City': 'hyderabad',\n",
       " 'Qualification': 'undergraduate'}"
      ]
     },
     "execution_count": 6,
     "metadata": {},
     "output_type": "execute_result"
    }
   ],
   "source": [
    "info = {\"First name\":\"Parvesh\", \"Last name\":\"Jesswani\",\"age\":20,\"City\":\"hyderabad\"}\n",
    "info.update({\"Qualification\":\"undergraduate\"})\n",
    "info"
   ]
  },
  {
   "cell_type": "code",
   "execution_count": 7,
   "metadata": {},
   "outputs": [
    {
     "data": {
      "text/plain": [
       "{'First name': 'Parvesh',\n",
       " 'Last name': 'Jesswani',\n",
       " 'age': 20,\n",
       " 'City': 'hyderabad',\n",
       " 'Qualification': 'high academic level'}"
      ]
     },
     "execution_count": 7,
     "metadata": {},
     "output_type": "execute_result"
    }
   ],
   "source": [
    "info.update({\"Qualification\":\"high academic level\"})\n",
    "info"
   ]
  },
  {
   "cell_type": "code",
   "execution_count": 8,
   "metadata": {},
   "outputs": [
    {
     "data": {
      "text/plain": [
       "{'First name': 'Parvesh',\n",
       " 'Last name': 'Jesswani',\n",
       " 'age': 20,\n",
       " 'City': 'hyderabad'}"
      ]
     },
     "execution_count": 8,
     "metadata": {},
     "output_type": "execute_result"
    }
   ],
   "source": [
    "del info[\"Qualification\"]\n",
    "info"
   ]
  },
  {
   "cell_type": "markdown",
   "metadata": {},
   "source": [
    "##### 2. Make a dictionary called cities. Use the names of three cities as keys in your dictionary. Create a dictionary of information about each city and include the country that the city is in, its approximate population, and one fact about that city. The keys for each city’s dictionary should be something like country, population, and fact. Print the name of each city and all of the information you have stored about it."
   ]
  },
  {
   "cell_type": "code",
   "execution_count": 9,
   "metadata": {},
   "outputs": [
    {
     "name": "stdout",
     "output_type": "stream",
     "text": [
      "{'country': 'Pakistan', 'population': 14000000, 'fact': 'Largest city of Pakistan'}\n",
      "{'country': 'Germany', 'population': 3800000, 'fact': 'Capital of Germany'}\n",
      "{'country': 'China', 'population': 28000000, 'fact': 'largest populated city in the world'}\n"
     ]
    }
   ],
   "source": [
    "cities={\n",
    "    \"Karachi\": {\"country\":\"Pakistan\",\"population\":14000000,\"fact\":\"Largest city of Pakistan\"},\n",
    "    \"Berlin\":{\"country\":\"Germany\",\"population\":3800000,\"fact\":\"Capital of Germany\"},\n",
    "    \"Shanghai\":{\"country\":\"China\",\"population\":28000000,\"fact\":\"largest populated city in the world\"}\n",
    "}\n",
    "print(cities[\"Karachi\"])\n",
    "print(cities[\"Berlin\"])\n",
    "print(cities[\"Shanghai\"])"
   ]
  },
  {
   "cell_type": "markdown",
   "metadata": {},
   "source": [
    "##### 3. A movie theater charges different ticket prices depending on a person’s age. If a person is under the age of 3, the ticket is free; if they are between 3 and 12, the ticket is 10 dollars; and if they are over age 12, the ticket is 15 dollars. Write a loop in which you ask users their age, and then tell them the cost of their movie ticket."
   ]
  },
  {
   "cell_type": "code",
   "execution_count": 11,
   "metadata": {},
   "outputs": [
    {
     "name": "stdout",
     "output_type": "stream",
     "text": [
      "\n",
      "Enter your age or 'return' to exit :20\n",
      "Your ticket is $15!\n",
      "\n",
      "Enter your age or 'return' to exit :1\n",
      "Your ticket is free!\n",
      "\n",
      "Enter your age or 'return' to exit :10\n",
      "Your ticket is $10!\n",
      "\n",
      "Enter your age or 'return' to exit :return\n"
     ]
    }
   ],
   "source": [
    "flag = True\n",
    "while flag:\n",
    "    age = input(\"\\nEnter your age or 'return' to exit :\")\n",
    "    \n",
    "    if age.lower() == 'return':\n",
    "        flag = False\n",
    "    else:\n",
    "        int_age = int(age)\n",
    "        if int_age < 3:\n",
    "            print(\"Your ticket is free!\")\n",
    "        elif int_age >=3 and int_age <=12:\n",
    "            print(\"Your ticket is $10!\")\n",
    "        elif int_age > 12:\n",
    "            print(\"Your ticket is $15!\")"
   ]
  },
  {
   "cell_type": "markdown",
   "metadata": {},
   "source": [
    "##### 4.Write a function called favorite_book() that accepts one parameter, title. The function should print a message, such as One of my favorite books is Alice in Wonderland. Call the function, making sure to include a book title as an argument in the function call."
   ]
  },
  {
   "cell_type": "code",
   "execution_count": 12,
   "metadata": {},
   "outputs": [
    {
     "name": "stdout",
     "output_type": "stream",
     "text": [
      "One of my favorite books is 'Alice in Wonderland'.\n",
      "One of my favorite books is 'Fault in our star'.\n"
     ]
    }
   ],
   "source": [
    "def favorite_book(title):\n",
    "    print(f\"One of my favorite books is '{title}'.\")\n",
    "    \n",
    "favorite_book(\"Alice in Wonderland\")\n",
    "favorite_book(\"Fault in our star\")"
   ]
  },
  {
   "cell_type": "markdown",
   "metadata": {},
   "source": [
    "#### 5. Guess the number game.\n",
    "###### Write a program which randomly generate a number between 1 to 30 and ask the user in input field to guess the correct number. Give three chances to user guess the number and also give hint to user if hidden number is greater or smaller than the number he given to input field."
   ]
  },
  {
   "cell_type": "code",
   "execution_count": 15,
   "metadata": {},
   "outputs": [],
   "source": [
    "import random as rd"
   ]
  },
  {
   "cell_type": "code",
   "execution_count": 16,
   "metadata": {},
   "outputs": [
    {
     "name": "stdout",
     "output_type": "stream",
     "text": [
      "\n",
      "you have 3 chances to guess the hidden number (from 1,30): 20\n",
      "your number is greater than correct answer\n",
      "\n",
      "you have 2 chances to guess the hidden number (from 1,30): 10\n",
      "your number is less than correct answer\n",
      "\n",
      "you have 1 chances to guess the hidden number (from 1,30): 11\n",
      "your number is less than correct answer\n",
      "you lose, hidden number was 16\n"
     ]
    }
   ],
   "source": [
    "i=3\n",
    "correct_num= rd.randint(1,30)\n",
    "while i>0:\n",
    "    user_num=int(input(f\"\\nyou have {i} chances to guess the hidden number (from 1,30): \"))\n",
    "    \n",
    "    if user_num ==correct_num:\n",
    "        print(\"correct answer! congrats,you won!\")\n",
    "        break\n",
    "    elif user_num>correct_num:\n",
    "        print(\"your number is greater than correct answer\")\n",
    "        i-=1\n",
    "    elif user_num<correct_num:\n",
    "        print(\"your number is less than correct answer\")\n",
    "        i-=1\n",
    "    elif user_num<1 or user_num>30:\n",
    "        print(\"Please enter number between 1 and 30\")\n",
    " \n",
    "if i == 0:\n",
    "    print(f\"you lose, hidden number was {correct_num}\")"
   ]
  },
  {
   "cell_type": "code",
   "execution_count": null,
   "metadata": {},
   "outputs": [],
   "source": []
  }
 ],
 "metadata": {
  "kernelspec": {
   "display_name": "Python 3",
   "language": "python",
   "name": "python3"
  },
  "language_info": {
   "codemirror_mode": {
    "name": "ipython",
    "version": 3
   },
   "file_extension": ".py",
   "mimetype": "text/x-python",
   "name": "python",
   "nbconvert_exporter": "python",
   "pygments_lexer": "ipython3",
   "version": "3.7.1"
  }
 },
 "nbformat": 4,
 "nbformat_minor": 2
}
