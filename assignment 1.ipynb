{
 "cells": [
  {
   "cell_type": "markdown",
   "metadata": {},
   "source": [
    "# Assignment 1\n",
    "### write a python program to print the following string in a specific format"
   ]
  },
  {
   "cell_type": "code",
   "execution_count": 4,
   "metadata": {},
   "outputs": [
    {
     "name": "stdout",
     "output_type": "stream",
     "text": [
      "\t\t\t Twinkle, twinkle, little star,\n",
      "\t\t\t\t how i wonder what you are!\n",
      "\t\t\t\t\t up above the world so high,\n",
      "\t\t\t\t\t\t like a diamond in the sky.\n",
      "\t\t\t twinkle, twinkle, little star,\n",
      "\t\t\t how i wonder what you are\n"
     ]
    }
   ],
   "source": [
    "print(\"\\t\\t\\t Twinkle, twinkle, little star,\"\n",
    "      \"\\n\\t\\t\\t\\t how i wonder what you are!\" \n",
    "      \"\\n\\t\\t\\t\\t\\t up above the world so high,\" \n",
    "      \"\\n\\t\\t\\t\\t\\t\\t like a diamond in the sky.\"\n",
    "      \"\\n\\t\\t\\t twinkle, twinkle, little star,\"\n",
    "      \"\\n\\t\\t\\t how i wonder what you are\")"
   ]
  },
  {
   "cell_type": "markdown",
   "metadata": {},
   "source": [
    "### 2.write a python program to get the python version you are using"
   ]
  },
  {
   "cell_type": "code",
   "execution_count": 5,
   "metadata": {},
   "outputs": [
    {
     "name": "stdout",
     "output_type": "stream",
     "text": [
      "3.7.1 (default, Dec 10 2018, 22:54:23) [MSC v.1915 64 bit (AMD64)]\n"
     ]
    }
   ],
   "source": [
    "import sys\n",
    "print(sys.version)"
   ]
  },
  {
   "cell_type": "markdown",
   "metadata": {},
   "source": [
    "### 3.Write a program to display the current date and time"
   ]
  },
  {
   "cell_type": "code",
   "execution_count": 6,
   "metadata": {},
   "outputs": [],
   "source": [
    "from datetime import datetime"
   ]
  },
  {
   "cell_type": "code",
   "execution_count": 7,
   "metadata": {},
   "outputs": [
    {
     "name": "stdout",
     "output_type": "stream",
     "text": [
      "date and time = 21/11/2019 16:27:11\n"
     ]
    }
   ],
   "source": [
    "now = datetime.now()\n",
    "dt_string = now.strftime(\"%d/%m/%Y %H:%M:%S\")\n",
    "print(\"date and time =\", dt_string)"
   ]
  },
  {
   "cell_type": "markdown",
   "metadata": {},
   "source": [
    "### 4.write a program which accepts the radius of a circle from the user and compute the area"
   ]
  },
  {
   "cell_type": "code",
   "execution_count": 8,
   "metadata": {},
   "outputs": [
    {
     "name": "stdout",
     "output_type": "stream",
     "text": [
      "4\n",
      "area of the circle is =  53.552\n"
     ]
    }
   ],
   "source": [
    "radius = int(input())\n",
    "area = 4*3.347*radius\n",
    "print (\"area of the circle is = \", area)"
   ]
  },
  {
   "cell_type": "markdown",
   "metadata": {},
   "source": [
    "### 5.write a program which accepts the user's first and last name and print them in reverse order with a space between them."
   ]
  },
  {
   "cell_type": "code",
   "execution_count": 11,
   "metadata": {},
   "outputs": [
    {
     "name": "stdout",
     "output_type": "stream",
     "text": [
      "Parvesh\n",
      "Jesswani\n",
      "Jesswani Parvesh\n"
     ]
    }
   ],
   "source": [
    "first_name= input()\n",
    "last_name = input()\n",
    "print (last_name+\" \"+first_name)"
   ]
  },
  {
   "cell_type": "markdown",
   "metadata": {},
   "source": [
    "### 6.write a program which takes two inputs from user and print them addition"
   ]
  },
  {
   "cell_type": "code",
   "execution_count": 14,
   "metadata": {},
   "outputs": [
    {
     "name": "stdout",
     "output_type": "stream",
     "text": [
      "Enter first input:hello\n",
      "Enter second input:1\n",
      "hello1\n"
     ]
    }
   ],
   "source": [
    "a= input(\"Enter first input:\")\n",
    "b= input(\"Enter second input:\")\n",
    "print(a+b)"
   ]
  },
  {
   "cell_type": "code",
   "execution_count": null,
   "metadata": {},
   "outputs": [],
   "source": []
  }
 ],
 "metadata": {
  "kernelspec": {
   "display_name": "Python 3",
   "language": "python",
   "name": "python3"
  },
  "language_info": {
   "codemirror_mode": {
    "name": "ipython",
    "version": 3
   },
   "file_extension": ".py",
   "mimetype": "text/x-python",
   "name": "python",
   "nbconvert_exporter": "python",
   "pygments_lexer": "ipython3",
   "version": "3.7.1"
  }
 },
 "nbformat": 4,
 "nbformat_minor": 2
}
